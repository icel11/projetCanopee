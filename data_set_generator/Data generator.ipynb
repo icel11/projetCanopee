{
 "cells": [
  {
   "cell_type": "code",
   "execution_count": 1,
   "id": "f8734979",
   "metadata": {},
   "outputs": [],
   "source": [
    "import cv2\n",
    "import torch\n",
    "import urllib.request\n",
    "from PIL import Image\n",
    "import imageio\n",
    "import numpy as np\n",
    "import matplotlib.pyplot as plt\n",
    "import matplotlib.patches as patches\n",
    "import os\n",
    "import copy\n",
    "import gc\n",
    "import tifffile "
   ]
  },
  {
   "cell_type": "code",
   "execution_count": 2,
   "id": "111e1923",
   "metadata": {},
   "outputs": [],
   "source": [
    "def get_depthMap(image_data, is_path=True):\n",
    "\n",
    "    model_type = \"DPT_Large\"     # MiDaS v3 - Large     (highest accuracy, slowest inference speed)\n",
    "    #model_type = \"DPT_Hybrid\"   # MiDaS v3 - Hybrid    (medium accuracy, medium inference speed)\n",
    "    #model_type = \"MiDaS_small\"  # MiDaS v2.1 - Small   (lowest accuracy, highest inference speed)\n",
    "    midas = torch.hub.load(\"intel-isl/MiDaS\", model_type)\n",
    "\n",
    "    USE_GPU = True\n",
    "    device = torch.device('mps') if (USE_GPU and torch.backends.mps.is_available()) else torch.device('cpu')\n",
    "    #print('using device:', device)\n",
    "    midas.to(device)\n",
    "    midas.eval()\n",
    "\n",
    "    midas_transforms = torch.hub.load(\"intel-isl/MiDaS\", \"transforms\")\n",
    "\n",
    "    if model_type == \"DPT_Large\" or model_type == \"DPT_Hybrid\":\n",
    "        transform = midas_transforms.dpt_transform\n",
    "    else:\n",
    "        transform = midas_transforms.small_transform\n",
    "    \n",
    "    if is_path:\n",
    "        original_img = Image.open(image_data)\n",
    "    else:\n",
    "        original_img = image_data\n",
    "    img = np.array(original_img) \n",
    "    img = cv2.cvtColor(img, cv2.COLOR_BGR2RGB)\n",
    "\n",
    "    input_batch = transform(img).to(device)\n",
    "\n",
    "    with torch.no_grad():\n",
    "        prediction = midas(input_batch)\n",
    "\n",
    "        prediction = torch.nn.functional.interpolate(\n",
    "            prediction.unsqueeze(1),\n",
    "            size=img.shape[:2],\n",
    "            # mode=\"bicubic\",\n",
    "            # align_corners=False,\n",
    "        ).squeeze()\n",
    "\n",
    "    output = prediction.cpu().numpy()\n",
    "    output_image = Image.fromarray(output)\n",
    "    output_image = output_image.convert('RGB')\n",
    "\n",
    "    gc.collect()\n",
    "    \n",
    "    return output"
   ]
  },
  {
   "cell_type": "code",
   "execution_count": null,
   "id": "3bfaa5cc",
   "metadata": {},
   "outputs": [],
   "source": [
    "image = Image.open(\"data_set/0.png\")\n",
    "image_depth_map = get_depthMap(\"data_set/0.png\")\n",
    "image_mask = cv2.imread(\"data_set/0_mask.png\", cv2.IMREAD_GRAYSCALE)\n",
    "closed_mask = cv2.morphologyEx(image_mask, cv2.MORPH_CLOSE, np.ones((100,100),np.uint8))"
   ]
  },
  {
   "cell_type": "code",
   "execution_count": null,
   "id": "da726007",
   "metadata": {},
   "outputs": [],
   "source": [
    "figure, axis = plt.subplots(2, 2)\n",
    "axis[0, 0].imshow(image)\n",
    "axis[0, 1].imshow(image_depth_map)\n",
    "axis[1, 0].imshow(image_mask)\n",
    "axis[1, 1].imshow(closed_mask)"
   ]
  },
  {
   "cell_type": "code",
   "execution_count": null,
   "id": "a4ff86d8",
   "metadata": {},
   "outputs": [],
   "source": [
    "corolle_patch = np.zeros_like(image_depth_map)\n",
    "corolle_patch[closed_mask == 255] = image_depth_map[closed_mask == 255]\n",
    "plt.imshow(corolle_patch)"
   ]
  },
  {
   "cell_type": "code",
   "execution_count": null,
   "id": "2e28f396",
   "metadata": {},
   "outputs": [],
   "source": [
    "fig, ax = plt.subplots(figsize=(5, 5))\n",
    "\n",
    "ax.imshow(image_mask)\n",
    "indices = np.array(np.where(image_mask == 255))\n",
    "pixel = indices[:,-1]\n",
    "pt = patches.Circle((index[1], index[0]), radius = 5, edgecolor = 'r', fill = False)\n",
    "\n"
   ]
  },
  {
   "cell_type": "raw",
   "id": "6bc4f5a2",
   "metadata": {},
   "source": []
  },
  {
   "cell_type": "code",
   "execution_count": null,
   "id": "416262eb",
   "metadata": {},
   "outputs": [],
   "source": [
    "background = Image.open(\"backgrounds/1.jpeg\")\n",
    "background_map = get_depthMap(\"backgrounds/1.jpeg\")"
   ]
  },
  {
   "cell_type": "code",
   "execution_count": null,
   "id": "175cdcef",
   "metadata": {},
   "outputs": [],
   "source": [
    "figure, axis = plt.subplots(1, 2)\n",
    "axis[0].imshow(background)\n",
    "axis[1].imshow(background_map)"
   ]
  },
  {
   "cell_type": "code",
   "execution_count": null,
   "id": "cedf15c7",
   "metadata": {},
   "outputs": [],
   "source": [
    "result = Image.open(\"backgrounds/1.jpeg\").convert(\"RGBA\")\n",
    "\n",
    "mask_aux = np.repeat(image_mask[:,:, None], 4, axis=2)\n",
    "corolle_mask = np.where(mask_aux == 255, 1, mask_aux)\n",
    "corolle = Image.fromarray(image * corolle_mask)\n",
    "result.paste(corolle, (pos_x, pos_y), Image.fromarray(image_mask))\n",
    "\n",
    "result_mask = Image.fromarray(np.repeat(np.zeros_like(background_map)[:,:, None], 3, axis=2).astype(np.uint8))\n",
    "result_mask.paste(Image.fromarray(closed_mask), (pos_x, pos_y))\n",
    "\n",
    "\n",
    "result_depth_pasted = Image.fromarray(np.repeat(background_map[:,:, None], 4, axis=2).astype(np.uint8))\n",
    "#corolle_depth_aux = Image.fromarray(np.repeat(image_depth_map[:,:, None], 4, axis=2).astype(np.uint8))\n",
    "result_depth_pasted.paste(Image.fromarray(image_depth_map), (pos_x, pos_y), Image.fromarray(image_mask))\n",
    "\n",
    "figure, axis = plt.subplots(2, 2, figsize=(10, 10))\n",
    "axis[0, 0].imshow(result)\n",
    "axis[0, 1].imshow(result_mask)\n",
    "axis[1, 0].imshow(result_depth_processed)\n",
    "axis[1, 1].imshow(np.array(result_depth_pasted)[:,:,0])\n",
    "\n"
   ]
  },
  {
   "cell_type": "markdown",
   "id": "4f748881",
   "metadata": {},
   "source": [
    " "
   ]
  },
  {
   "cell_type": "code",
   "execution_count": 3,
   "id": "b161dfe0",
   "metadata": {
    "scrolled": true
   },
   "outputs": [],
   "source": [
    "\n",
    "\n",
    "\"\"\"\n",
    "From a folder full of background images it returns all images and its ndarray depths as two arrays\n",
    "\"\"\"\n",
    "def get_background_depths(backgrounds_folder):\n",
    "    print(\"Getting background depth maps...\")\n",
    "    backgrounds = []\n",
    "    background_depths = []\n",
    "    for background in os.listdir(backgrounds_folder):\n",
    "        background_path = os.path.join(backgrounds_folder, background)\n",
    "        backgrounds.append(Image.open(background_path))\n",
    "        background_depths.append(get_depthMap(background_path))\n",
    "    return backgrounds, background_depths\n",
    "\n",
    "\n",
    "\"\"\"\n",
    "From a folder full of corolle images and masks it returns all images, depths, masks and closed_masks (without\n",
    "holes)\n",
    "\"\"\"\n",
    "def get_corolles_information(corolles_folder):\n",
    "    hole_filler = np.ones((100,100),np.uint8)\n",
    "        \n",
    "    corolles = []\n",
    "    corolles_depths = []\n",
    "    corolles_masks = []\n",
    "    corolles_closed_masks = []\n",
    "    for corolle in os.listdir(corolles_folder):\n",
    "        corolle_path = os.path.join(corolles_folder, corolle)\n",
    "        if not \"mask\" in corolle_path:\n",
    "            corolles.append(Image.open(corolle_path))\n",
    "            corolles_depths.append(get_depthMap(corolle_path))\n",
    "            corolle_mask_path = corolle_path.replace(\".png\", \"_mask.png\")\n",
    "            corolle_mask = cv2.imread(corolle_mask_path, cv2.IMREAD_GRAYSCALE)\n",
    "            corolles_masks.append(corolle_mask)\n",
    "            corolle_closed_mask = cv2.morphologyEx(corolle_mask, cv2.MORPH_CLOSE, hole_filler)\n",
    "            corolles_closed_masks.append(corolle_closed_mask)\n",
    "            \n",
    "    return corolles, corolles_depths, corolles_masks, corolles_closed_masks\n",
    "\n",
    "def resize(image, size):\n",
    "    return cv2.resize(image, dsize=size, interpolation=cv2.INTER_CUBIC)\n",
    "\n",
    "def create_examples(backgrounds_folder, corolles_folder):\n",
    "    color_margin = 0.3\n",
    "    \n",
    "    print(\"Getting background depth maps...\")\n",
    "    backgrounds, background_depths = get_background_depths(backgrounds_folder)\n",
    "    \n",
    "    print(\"Getting corolles information...\")\n",
    "    corolles, corolles_depths, corolles_masks, corolles_closed_masks = get_corolles_information(corolles_folder)\n",
    "     \n",
    "    \n",
    "    for b_index, background in enumerate(backgrounds):\n",
    "        background_depth = background_depths[b_index]\n",
    "        background_height, background_width = background_depth.shape\n",
    "        \n",
    "        \n",
    "        for c_index, corolle in enumerate(corolles):\n",
    "            corolle = corolle.resize((background_width,background_width), Image.Resampling.LANCZOS)\n",
    "            corolle_depth = resize(corolles_depths[c_index], (background_width, background_width))\n",
    "            corolle_depth_image = Image.fromarray(corolle_depth)\n",
    "            \n",
    "            corolle_mask = resize(corolles_masks[c_index], (background_width, background_width))\n",
    "            mask_aux = np.repeat(corolle_mask[:,:, None], 4, axis=2)\n",
    "            mask_aux = np.where(mask_aux == 255, 1, mask_aux)\n",
    "            \n",
    "            corolle = Image.fromarray(corolle * mask_aux)\n",
    "            corolle_mask_image = Image.fromarray(corolle_mask)\n",
    "            \n",
    "            corolle_closed_mask = resize(corolles_closed_masks[c_index], (background_width,background_width))\n",
    "            corolle_union_coord = np.array(np.where(corolle_closed_mask == 255))[:, -1]\n",
    "            \n",
    "            union_color = corolle_depth[corolle_union_coord[0], corolle_union_coord[1]]\n",
    "            possible_unions = np.array(np.where(abs(background_depth - union_color) < color_margin)).T\n",
    "            filtered_coords = possible_unions[(possible_unions[:, 1] >= background_width/3) &\n",
    "                                      (possible_unions[:, 1] <= background_width * 2/3) &\n",
    "                                      (possible_unions[:, 0] >= background_height/2)]\n",
    "            \n",
    "            coords = np.random.choice(filtered_coords.shape[0], 5, replace=False)            \n",
    "            for i in range(5):\n",
    "                print(\"Placing tree at: {}\".format(filtered_coords[coords[i]]))\n",
    "                background_union_coord = filtered_coords[coords[i]]\n",
    "                position = background_union_coord - corolle_union_coord\n",
    "                                \n",
    "                result = copy.deepcopy(background)\n",
    "                result.paste(corolle, (position[1], position[0]), corolle_mask_image)\n",
    "                \n",
    "                result_mask = Image.fromarray(np.repeat(np.zeros_like(background_depth)[:,:, None], 3, axis=2).astype(np.uint8))\n",
    "                result_mask.paste(Image.fromarray(corolle_closed_mask),  (position[1], position[0]))\n",
    "                result_depth = get_depthMap(result, False)\n",
    "        \n",
    "                result_depth_pasted = Image.fromarray(np.repeat(background_depth[:,:, None], 3, axis=2).astype(np.uint8))\n",
    "                result_depth_pasted.paste(corolle_depth_image, (position[1], position[0]), corolle_mask_image)\n",
    "\n",
    "                file_name = \"background_{}_image_{}_coord_{}\".format(b_index, c_index, i)\n",
    "                \n",
    "                print(\"Creating file {}\".format(file_name))\n",
    "                np.save('results/images/A1{}.npy'.format(file_name), np.array(result))\n",
    "                np.save('results/masks/A1{}.npy'.format(file_name), np.array(result_mask)[:, :, 0])\n",
    "                np.save('results/depths/A1{}.npy'.format(file_name), result_depth.astype(np.uint8))\n",
    "                np.save('results/depths_pasted/A1{}.npy'.format(file_name), np.array(result_depth_pasted)[:, :, 0])\n",
    "                gc.collect()\n",
    "        del backgrounds[0]\n",
    "        del background_depths[0]\n"
   ]
  },
  {
   "cell_type": "code",
   "execution_count": null,
   "id": "a8c650b6",
   "metadata": {},
   "outputs": [],
   "source": [
    "# Debugging:\n",
    "print(\"Getting background depth maps...\")\n",
    "backgrounds, background_depths = get_background_depths(\"backgrounds_ex\")\n",
    "    \n",
    "print(\"Getting corolles information...\")\n",
    "corolles, corolles_depths, corolles_masks, corolles_closed_masks, corolles_union_coords = get_corolles_information(\"data_set_ex\")"
   ]
  },
  {
   "cell_type": "code",
   "execution_count": 4,
   "id": "b9841489",
   "metadata": {},
   "outputs": [
    {
     "name": "stdout",
     "output_type": "stream",
     "text": [
      "Getting background depth maps...\n",
      "Getting background depth maps...\n"
     ]
    },
    {
     "name": "stderr",
     "output_type": "stream",
     "text": [
      "Using cache found in /home/icel/.cache/torch/hub/intel-isl_MiDaS_master\n",
      "Using cache found in /home/icel/.cache/torch/hub/intel-isl_MiDaS_master\n",
      "Using cache found in /home/icel/.cache/torch/hub/intel-isl_MiDaS_master\n",
      "Using cache found in /home/icel/.cache/torch/hub/intel-isl_MiDaS_master\n",
      "Using cache found in /home/icel/.cache/torch/hub/intel-isl_MiDaS_master\n",
      "Using cache found in /home/icel/.cache/torch/hub/intel-isl_MiDaS_master\n",
      "Using cache found in /home/icel/.cache/torch/hub/intel-isl_MiDaS_master\n",
      "Using cache found in /home/icel/.cache/torch/hub/intel-isl_MiDaS_master\n",
      "Using cache found in /home/icel/.cache/torch/hub/intel-isl_MiDaS_master\n",
      "Using cache found in /home/icel/.cache/torch/hub/intel-isl_MiDaS_master\n",
      "Using cache found in /home/icel/.cache/torch/hub/intel-isl_MiDaS_master\n",
      "Using cache found in /home/icel/.cache/torch/hub/intel-isl_MiDaS_master\n",
      "Using cache found in /home/icel/.cache/torch/hub/intel-isl_MiDaS_master\n",
      "Using cache found in /home/icel/.cache/torch/hub/intel-isl_MiDaS_master\n",
      "Using cache found in /home/icel/.cache/torch/hub/intel-isl_MiDaS_master\n",
      "Using cache found in /home/icel/.cache/torch/hub/intel-isl_MiDaS_master\n",
      "Using cache found in /home/icel/.cache/torch/hub/intel-isl_MiDaS_master\n",
      "Using cache found in /home/icel/.cache/torch/hub/intel-isl_MiDaS_master\n",
      "Using cache found in /home/icel/.cache/torch/hub/intel-isl_MiDaS_master\n",
      "Using cache found in /home/icel/.cache/torch/hub/intel-isl_MiDaS_master\n",
      "Using cache found in /home/icel/.cache/torch/hub/intel-isl_MiDaS_master\n",
      "Using cache found in /home/icel/.cache/torch/hub/intel-isl_MiDaS_master\n",
      "Using cache found in /home/icel/.cache/torch/hub/intel-isl_MiDaS_master\n",
      "Using cache found in /home/icel/.cache/torch/hub/intel-isl_MiDaS_master\n",
      "Using cache found in /home/icel/.cache/torch/hub/intel-isl_MiDaS_master\n",
      "Using cache found in /home/icel/.cache/torch/hub/intel-isl_MiDaS_master\n",
      "Using cache found in /home/icel/.cache/torch/hub/intel-isl_MiDaS_master\n",
      "Using cache found in /home/icel/.cache/torch/hub/intel-isl_MiDaS_master\n",
      "Using cache found in /home/icel/.cache/torch/hub/intel-isl_MiDaS_master\n",
      "Using cache found in /home/icel/.cache/torch/hub/intel-isl_MiDaS_master\n"
     ]
    },
    {
     "name": "stdout",
     "output_type": "stream",
     "text": [
      "Getting corolles information...\n"
     ]
    },
    {
     "name": "stderr",
     "output_type": "stream",
     "text": [
      "Using cache found in /home/icel/.cache/torch/hub/intel-isl_MiDaS_master\n",
      "Using cache found in /home/icel/.cache/torch/hub/intel-isl_MiDaS_master\n",
      "Using cache found in /home/icel/.cache/torch/hub/intel-isl_MiDaS_master\n",
      "Using cache found in /home/icel/.cache/torch/hub/intel-isl_MiDaS_master\n",
      "Using cache found in /home/icel/.cache/torch/hub/intel-isl_MiDaS_master\n",
      "Using cache found in /home/icel/.cache/torch/hub/intel-isl_MiDaS_master\n"
     ]
    },
    {
     "name": "stdout",
     "output_type": "stream",
     "text": [
      "Placing tree at: [1906 1666]\n"
     ]
    },
    {
     "name": "stderr",
     "output_type": "stream",
     "text": [
      "Using cache found in /home/icel/.cache/torch/hub/intel-isl_MiDaS_master\n",
      "Using cache found in /home/icel/.cache/torch/hub/intel-isl_MiDaS_master\n"
     ]
    },
    {
     "name": "stdout",
     "output_type": "stream",
     "text": [
      "Creating file background_0_image_0_coord_0\n",
      "Placing tree at: [1900 1794]\n"
     ]
    },
    {
     "name": "stderr",
     "output_type": "stream",
     "text": [
      "Using cache found in /home/icel/.cache/torch/hub/intel-isl_MiDaS_master\n",
      "Using cache found in /home/icel/.cache/torch/hub/intel-isl_MiDaS_master\n"
     ]
    },
    {
     "name": "stdout",
     "output_type": "stream",
     "text": [
      "Creating file background_0_image_0_coord_1\n",
      "Placing tree at: [1883 2348]\n"
     ]
    },
    {
     "name": "stderr",
     "output_type": "stream",
     "text": [
      "Using cache found in /home/icel/.cache/torch/hub/intel-isl_MiDaS_master\n",
      "Using cache found in /home/icel/.cache/torch/hub/intel-isl_MiDaS_master\n"
     ]
    },
    {
     "name": "stdout",
     "output_type": "stream",
     "text": [
      "Creating file background_0_image_0_coord_2\n",
      "Placing tree at: [1921 1314]\n"
     ]
    },
    {
     "name": "stderr",
     "output_type": "stream",
     "text": [
      "Using cache found in /home/icel/.cache/torch/hub/intel-isl_MiDaS_master\n",
      "Using cache found in /home/icel/.cache/torch/hub/intel-isl_MiDaS_master\n"
     ]
    },
    {
     "name": "stdout",
     "output_type": "stream",
     "text": [
      "Creating file background_0_image_0_coord_3\n",
      "Placing tree at: [1906 1578]\n"
     ]
    },
    {
     "name": "stderr",
     "output_type": "stream",
     "text": [
      "Using cache found in /home/icel/.cache/torch/hub/intel-isl_MiDaS_master\n",
      "Using cache found in /home/icel/.cache/torch/hub/intel-isl_MiDaS_master\n"
     ]
    },
    {
     "name": "stdout",
     "output_type": "stream",
     "text": [
      "Creating file background_0_image_0_coord_4\n",
      "Placing tree at: [1791 1808]\n"
     ]
    },
    {
     "name": "stderr",
     "output_type": "stream",
     "text": [
      "Using cache found in /home/icel/.cache/torch/hub/intel-isl_MiDaS_master\n",
      "Using cache found in /home/icel/.cache/torch/hub/intel-isl_MiDaS_master\n"
     ]
    },
    {
     "name": "stdout",
     "output_type": "stream",
     "text": [
      "Creating file background_0_image_1_coord_0\n",
      "Placing tree at: [1791 1772]\n"
     ]
    },
    {
     "name": "stderr",
     "output_type": "stream",
     "text": [
      "Using cache found in /home/icel/.cache/torch/hub/intel-isl_MiDaS_master\n",
      "Using cache found in /home/icel/.cache/torch/hub/intel-isl_MiDaS_master\n"
     ]
    },
    {
     "name": "stdout",
     "output_type": "stream",
     "text": [
      "Creating file background_0_image_1_coord_1\n",
      "Placing tree at: [1793 1721]\n"
     ]
    },
    {
     "name": "stderr",
     "output_type": "stream",
     "text": [
      "Using cache found in /home/icel/.cache/torch/hub/intel-isl_MiDaS_master\n",
      "Using cache found in /home/icel/.cache/torch/hub/intel-isl_MiDaS_master\n"
     ]
    },
    {
     "name": "stdout",
     "output_type": "stream",
     "text": [
      "Creating file background_0_image_1_coord_2\n",
      "Placing tree at: [1794 1569]\n"
     ]
    },
    {
     "name": "stderr",
     "output_type": "stream",
     "text": [
      "Using cache found in /home/icel/.cache/torch/hub/intel-isl_MiDaS_master\n",
      "Using cache found in /home/icel/.cache/torch/hub/intel-isl_MiDaS_master\n"
     ]
    },
    {
     "name": "stdout",
     "output_type": "stream",
     "text": [
      "Creating file background_0_image_1_coord_3\n",
      "Placing tree at: [1772 2457]\n"
     ]
    },
    {
     "name": "stderr",
     "output_type": "stream",
     "text": [
      "Using cache found in /home/icel/.cache/torch/hub/intel-isl_MiDaS_master\n",
      "Using cache found in /home/icel/.cache/torch/hub/intel-isl_MiDaS_master\n"
     ]
    },
    {
     "name": "stdout",
     "output_type": "stream",
     "text": [
      "Creating file background_0_image_1_coord_4\n",
      "Placing tree at: [1803 1737]\n"
     ]
    },
    {
     "name": "stderr",
     "output_type": "stream",
     "text": [
      "Using cache found in /home/icel/.cache/torch/hub/intel-isl_MiDaS_master\n",
      "Using cache found in /home/icel/.cache/torch/hub/intel-isl_MiDaS_master\n"
     ]
    },
    {
     "name": "stdout",
     "output_type": "stream",
     "text": [
      "Creating file background_0_image_2_coord_0\n",
      "Placing tree at: [1791 1940]\n"
     ]
    },
    {
     "name": "stderr",
     "output_type": "stream",
     "text": [
      "Using cache found in /home/icel/.cache/torch/hub/intel-isl_MiDaS_master\n",
      "Using cache found in /home/icel/.cache/torch/hub/intel-isl_MiDaS_master\n"
     ]
    },
    {
     "name": "stdout",
     "output_type": "stream",
     "text": [
      "Creating file background_0_image_2_coord_1\n",
      "Placing tree at: [1800 1914]\n"
     ]
    },
    {
     "name": "stderr",
     "output_type": "stream",
     "text": [
      "Using cache found in /home/icel/.cache/torch/hub/intel-isl_MiDaS_master\n",
      "Using cache found in /home/icel/.cache/torch/hub/intel-isl_MiDaS_master\n"
     ]
    },
    {
     "name": "stdout",
     "output_type": "stream",
     "text": [
      "Creating file background_0_image_2_coord_2\n",
      "Placing tree at: [1803 1397]\n"
     ]
    },
    {
     "name": "stderr",
     "output_type": "stream",
     "text": [
      "Using cache found in /home/icel/.cache/torch/hub/intel-isl_MiDaS_master\n",
      "Using cache found in /home/icel/.cache/torch/hub/intel-isl_MiDaS_master\n"
     ]
    },
    {
     "name": "stdout",
     "output_type": "stream",
     "text": [
      "Creating file background_0_image_2_coord_3\n",
      "Placing tree at: [1782 2132]\n"
     ]
    },
    {
     "name": "stderr",
     "output_type": "stream",
     "text": [
      "Using cache found in /home/icel/.cache/torch/hub/intel-isl_MiDaS_master\n",
      "Using cache found in /home/icel/.cache/torch/hub/intel-isl_MiDaS_master\n"
     ]
    },
    {
     "name": "stdout",
     "output_type": "stream",
     "text": [
      "Creating file background_0_image_2_coord_4\n",
      "Placing tree at: [5525 1469]\n"
     ]
    },
    {
     "name": "stderr",
     "output_type": "stream",
     "text": [
      "Using cache found in /home/icel/.cache/torch/hub/intel-isl_MiDaS_master\n",
      "Using cache found in /home/icel/.cache/torch/hub/intel-isl_MiDaS_master\n"
     ]
    },
    {
     "name": "stdout",
     "output_type": "stream",
     "text": [
      "Creating file background_1_image_0_coord_0\n",
      "Placing tree at: [5540 1726]\n"
     ]
    },
    {
     "name": "stderr",
     "output_type": "stream",
     "text": [
      "Using cache found in /home/icel/.cache/torch/hub/intel-isl_MiDaS_master\n",
      "Using cache found in /home/icel/.cache/torch/hub/intel-isl_MiDaS_master\n"
     ]
    },
    {
     "name": "stdout",
     "output_type": "stream",
     "text": [
      "Creating file background_1_image_0_coord_1\n",
      "Placing tree at: [5527 2010]\n"
     ]
    },
    {
     "name": "stderr",
     "output_type": "stream",
     "text": [
      "Using cache found in /home/icel/.cache/torch/hub/intel-isl_MiDaS_master\n",
      "Using cache found in /home/icel/.cache/torch/hub/intel-isl_MiDaS_master\n"
     ]
    },
    {
     "name": "stdout",
     "output_type": "stream",
     "text": [
      "Creating file background_1_image_0_coord_2\n",
      "Placing tree at: [5528 1380]\n"
     ]
    },
    {
     "name": "stderr",
     "output_type": "stream",
     "text": [
      "Using cache found in /home/icel/.cache/torch/hub/intel-isl_MiDaS_master\n",
      "Using cache found in /home/icel/.cache/torch/hub/intel-isl_MiDaS_master\n"
     ]
    },
    {
     "name": "stdout",
     "output_type": "stream",
     "text": [
      "Creating file background_1_image_0_coord_3\n",
      "Placing tree at: [5512 1379]\n"
     ]
    },
    {
     "name": "stderr",
     "output_type": "stream",
     "text": [
      "Using cache found in /home/icel/.cache/torch/hub/intel-isl_MiDaS_master\n",
      "Using cache found in /home/icel/.cache/torch/hub/intel-isl_MiDaS_master\n"
     ]
    },
    {
     "name": "stdout",
     "output_type": "stream",
     "text": [
      "Creating file background_1_image_0_coord_4\n",
      "Placing tree at: [5257 1485]\n"
     ]
    },
    {
     "name": "stderr",
     "output_type": "stream",
     "text": [
      "Using cache found in /home/icel/.cache/torch/hub/intel-isl_MiDaS_master\n",
      "Using cache found in /home/icel/.cache/torch/hub/intel-isl_MiDaS_master\n"
     ]
    },
    {
     "name": "stdout",
     "output_type": "stream",
     "text": [
      "Creating file background_1_image_1_coord_0\n",
      "Placing tree at: [5268 1832]\n"
     ]
    },
    {
     "name": "stderr",
     "output_type": "stream",
     "text": [
      "Using cache found in /home/icel/.cache/torch/hub/intel-isl_MiDaS_master\n",
      "Using cache found in /home/icel/.cache/torch/hub/intel-isl_MiDaS_master\n"
     ]
    },
    {
     "name": "stdout",
     "output_type": "stream",
     "text": [
      "Creating file background_1_image_1_coord_1\n",
      "Placing tree at: [5249 1757]\n"
     ]
    },
    {
     "name": "stderr",
     "output_type": "stream",
     "text": [
      "Using cache found in /home/icel/.cache/torch/hub/intel-isl_MiDaS_master\n",
      "Using cache found in /home/icel/.cache/torch/hub/intel-isl_MiDaS_master\n"
     ]
    },
    {
     "name": "stdout",
     "output_type": "stream",
     "text": [
      "Creating file background_1_image_1_coord_2\n",
      "Placing tree at: [5269 1606]\n"
     ]
    },
    {
     "name": "stderr",
     "output_type": "stream",
     "text": [
      "Using cache found in /home/icel/.cache/torch/hub/intel-isl_MiDaS_master\n",
      "Using cache found in /home/icel/.cache/torch/hub/intel-isl_MiDaS_master\n"
     ]
    },
    {
     "name": "stdout",
     "output_type": "stream",
     "text": [
      "Creating file background_1_image_1_coord_3\n",
      "Placing tree at: [5270 1835]\n"
     ]
    },
    {
     "name": "stderr",
     "output_type": "stream",
     "text": [
      "Using cache found in /home/icel/.cache/torch/hub/intel-isl_MiDaS_master\n",
      "Using cache found in /home/icel/.cache/torch/hub/intel-isl_MiDaS_master\n"
     ]
    },
    {
     "name": "stdout",
     "output_type": "stream",
     "text": [
      "Creating file background_1_image_1_coord_4\n",
      "Placing tree at: [5275 2068]\n"
     ]
    },
    {
     "name": "stderr",
     "output_type": "stream",
     "text": [
      "Using cache found in /home/icel/.cache/torch/hub/intel-isl_MiDaS_master\n",
      "Using cache found in /home/icel/.cache/torch/hub/intel-isl_MiDaS_master\n"
     ]
    },
    {
     "name": "stdout",
     "output_type": "stream",
     "text": [
      "Creating file background_1_image_2_coord_0\n",
      "Placing tree at: [5280 2641]\n"
     ]
    },
    {
     "name": "stderr",
     "output_type": "stream",
     "text": [
      "Using cache found in /home/icel/.cache/torch/hub/intel-isl_MiDaS_master\n",
      "Using cache found in /home/icel/.cache/torch/hub/intel-isl_MiDaS_master\n"
     ]
    },
    {
     "name": "stdout",
     "output_type": "stream",
     "text": [
      "Creating file background_1_image_2_coord_1\n",
      "Placing tree at: [5276 2475]\n"
     ]
    },
    {
     "name": "stderr",
     "output_type": "stream",
     "text": [
      "Using cache found in /home/icel/.cache/torch/hub/intel-isl_MiDaS_master\n",
      "Using cache found in /home/icel/.cache/torch/hub/intel-isl_MiDaS_master\n"
     ]
    },
    {
     "name": "stdout",
     "output_type": "stream",
     "text": [
      "Creating file background_1_image_2_coord_2\n",
      "Placing tree at: [5272 1817]\n"
     ]
    },
    {
     "name": "stderr",
     "output_type": "stream",
     "text": [
      "Using cache found in /home/icel/.cache/torch/hub/intel-isl_MiDaS_master\n",
      "Using cache found in /home/icel/.cache/torch/hub/intel-isl_MiDaS_master\n"
     ]
    },
    {
     "name": "stdout",
     "output_type": "stream",
     "text": [
      "Creating file background_1_image_2_coord_3\n",
      "Placing tree at: [5282 1756]\n"
     ]
    },
    {
     "name": "stderr",
     "output_type": "stream",
     "text": [
      "Using cache found in /home/icel/.cache/torch/hub/intel-isl_MiDaS_master\n",
      "Using cache found in /home/icel/.cache/torch/hub/intel-isl_MiDaS_master\n"
     ]
    },
    {
     "name": "stdout",
     "output_type": "stream",
     "text": [
      "Creating file background_1_image_2_coord_4\n",
      "Placing tree at: [4373 1376]\n"
     ]
    },
    {
     "name": "stderr",
     "output_type": "stream",
     "text": [
      "Using cache found in /home/icel/.cache/torch/hub/intel-isl_MiDaS_master\n",
      "Using cache found in /home/icel/.cache/torch/hub/intel-isl_MiDaS_master\n"
     ]
    },
    {
     "name": "stdout",
     "output_type": "stream",
     "text": [
      "Creating file background_2_image_0_coord_0\n",
      "Placing tree at: [4367 1740]\n"
     ]
    },
    {
     "name": "stderr",
     "output_type": "stream",
     "text": [
      "Using cache found in /home/icel/.cache/torch/hub/intel-isl_MiDaS_master\n",
      "Using cache found in /home/icel/.cache/torch/hub/intel-isl_MiDaS_master\n"
     ]
    },
    {
     "name": "stdout",
     "output_type": "stream",
     "text": [
      "Creating file background_2_image_0_coord_1\n",
      "Placing tree at: [4382 1561]\n"
     ]
    },
    {
     "name": "stderr",
     "output_type": "stream",
     "text": [
      "Using cache found in /home/icel/.cache/torch/hub/intel-isl_MiDaS_master\n",
      "Using cache found in /home/icel/.cache/torch/hub/intel-isl_MiDaS_master\n"
     ]
    },
    {
     "name": "stdout",
     "output_type": "stream",
     "text": [
      "Creating file background_2_image_0_coord_2\n",
      "Placing tree at: [4399 1824]\n"
     ]
    },
    {
     "name": "stderr",
     "output_type": "stream",
     "text": [
      "Using cache found in /home/icel/.cache/torch/hub/intel-isl_MiDaS_master\n",
      "Using cache found in /home/icel/.cache/torch/hub/intel-isl_MiDaS_master\n"
     ]
    },
    {
     "name": "stdout",
     "output_type": "stream",
     "text": [
      "Creating file background_2_image_0_coord_3\n",
      "Placing tree at: [4381 1556]\n"
     ]
    },
    {
     "name": "stderr",
     "output_type": "stream",
     "text": [
      "Using cache found in /home/icel/.cache/torch/hub/intel-isl_MiDaS_master\n",
      "Using cache found in /home/icel/.cache/torch/hub/intel-isl_MiDaS_master\n"
     ]
    },
    {
     "name": "stdout",
     "output_type": "stream",
     "text": [
      "Creating file background_2_image_0_coord_4\n",
      "Placing tree at: [4075 1363]\n"
     ]
    },
    {
     "name": "stderr",
     "output_type": "stream",
     "text": [
      "Using cache found in /home/icel/.cache/torch/hub/intel-isl_MiDaS_master\n",
      "Using cache found in /home/icel/.cache/torch/hub/intel-isl_MiDaS_master\n"
     ]
    },
    {
     "name": "stdout",
     "output_type": "stream",
     "text": [
      "Creating file background_2_image_1_coord_0\n",
      "Placing tree at: [4068 2008]\n"
     ]
    },
    {
     "name": "stderr",
     "output_type": "stream",
     "text": [
      "Using cache found in /home/icel/.cache/torch/hub/intel-isl_MiDaS_master\n",
      "Using cache found in /home/icel/.cache/torch/hub/intel-isl_MiDaS_master\n"
     ]
    },
    {
     "name": "stdout",
     "output_type": "stream",
     "text": [
      "Creating file background_2_image_1_coord_1\n",
      "Placing tree at: [4067 2266]\n"
     ]
    },
    {
     "name": "stderr",
     "output_type": "stream",
     "text": [
      "Using cache found in /home/icel/.cache/torch/hub/intel-isl_MiDaS_master\n",
      "Using cache found in /home/icel/.cache/torch/hub/intel-isl_MiDaS_master\n"
     ]
    },
    {
     "name": "stdout",
     "output_type": "stream",
     "text": [
      "Creating file background_2_image_1_coord_2\n",
      "Placing tree at: [4063 1530]\n"
     ]
    },
    {
     "name": "stderr",
     "output_type": "stream",
     "text": [
      "Using cache found in /home/icel/.cache/torch/hub/intel-isl_MiDaS_master\n",
      "Using cache found in /home/icel/.cache/torch/hub/intel-isl_MiDaS_master\n"
     ]
    },
    {
     "name": "stdout",
     "output_type": "stream",
     "text": [
      "Creating file background_2_image_1_coord_3\n",
      "Placing tree at: [4058 2207]\n"
     ]
    },
    {
     "name": "stderr",
     "output_type": "stream",
     "text": [
      "Using cache found in /home/icel/.cache/torch/hub/intel-isl_MiDaS_master\n",
      "Using cache found in /home/icel/.cache/torch/hub/intel-isl_MiDaS_master\n"
     ]
    },
    {
     "name": "stdout",
     "output_type": "stream",
     "text": [
      "Creating file background_2_image_1_coord_4\n",
      "Placing tree at: [4107 1637]\n"
     ]
    },
    {
     "name": "stderr",
     "output_type": "stream",
     "text": [
      "Using cache found in /home/icel/.cache/torch/hub/intel-isl_MiDaS_master\n",
      "Using cache found in /home/icel/.cache/torch/hub/intel-isl_MiDaS_master\n"
     ]
    },
    {
     "name": "stdout",
     "output_type": "stream",
     "text": [
      "Creating file background_2_image_2_coord_0\n",
      "Placing tree at: [4111 2165]\n"
     ]
    },
    {
     "name": "stderr",
     "output_type": "stream",
     "text": [
      "Using cache found in /home/icel/.cache/torch/hub/intel-isl_MiDaS_master\n",
      "Using cache found in /home/icel/.cache/torch/hub/intel-isl_MiDaS_master\n"
     ]
    },
    {
     "name": "stdout",
     "output_type": "stream",
     "text": [
      "Creating file background_2_image_2_coord_1\n",
      "Placing tree at: [4116 2375]\n"
     ]
    },
    {
     "name": "stderr",
     "output_type": "stream",
     "text": [
      "Using cache found in /home/icel/.cache/torch/hub/intel-isl_MiDaS_master\n",
      "Using cache found in /home/icel/.cache/torch/hub/intel-isl_MiDaS_master\n"
     ]
    },
    {
     "name": "stdout",
     "output_type": "stream",
     "text": [
      "Creating file background_2_image_2_coord_2\n",
      "Placing tree at: [4107 2431]\n"
     ]
    },
    {
     "name": "stderr",
     "output_type": "stream",
     "text": [
      "Using cache found in /home/icel/.cache/torch/hub/intel-isl_MiDaS_master\n",
      "Using cache found in /home/icel/.cache/torch/hub/intel-isl_MiDaS_master\n"
     ]
    },
    {
     "name": "stdout",
     "output_type": "stream",
     "text": [
      "Creating file background_2_image_2_coord_3\n",
      "Placing tree at: [4115 2133]\n"
     ]
    },
    {
     "name": "stderr",
     "output_type": "stream",
     "text": [
      "Using cache found in /home/icel/.cache/torch/hub/intel-isl_MiDaS_master\n",
      "Using cache found in /home/icel/.cache/torch/hub/intel-isl_MiDaS_master\n"
     ]
    },
    {
     "name": "stdout",
     "output_type": "stream",
     "text": [
      "Creating file background_2_image_2_coord_4\n",
      "Placing tree at: [3345 2593]\n"
     ]
    },
    {
     "name": "stderr",
     "output_type": "stream",
     "text": [
      "Using cache found in /home/icel/.cache/torch/hub/intel-isl_MiDaS_master\n",
      "Using cache found in /home/icel/.cache/torch/hub/intel-isl_MiDaS_master\n"
     ]
    },
    {
     "name": "stdout",
     "output_type": "stream",
     "text": [
      "Creating file background_3_image_0_coord_0\n",
      "Placing tree at: [3325 2009]\n"
     ]
    },
    {
     "name": "stderr",
     "output_type": "stream",
     "text": [
      "Using cache found in /home/icel/.cache/torch/hub/intel-isl_MiDaS_master\n",
      "Using cache found in /home/icel/.cache/torch/hub/intel-isl_MiDaS_master\n"
     ]
    },
    {
     "name": "stdout",
     "output_type": "stream",
     "text": [
      "Creating file background_3_image_0_coord_1\n",
      "Placing tree at: [3333 2057]\n"
     ]
    },
    {
     "name": "stderr",
     "output_type": "stream",
     "text": [
      "Using cache found in /home/icel/.cache/torch/hub/intel-isl_MiDaS_master\n",
      "Using cache found in /home/icel/.cache/torch/hub/intel-isl_MiDaS_master\n"
     ]
    },
    {
     "name": "stdout",
     "output_type": "stream",
     "text": [
      "Creating file background_3_image_0_coord_2\n",
      "Placing tree at: [3348 2931]\n"
     ]
    },
    {
     "name": "stderr",
     "output_type": "stream",
     "text": [
      "Using cache found in /home/icel/.cache/torch/hub/intel-isl_MiDaS_master\n",
      "Using cache found in /home/icel/.cache/torch/hub/intel-isl_MiDaS_master\n"
     ]
    },
    {
     "name": "stdout",
     "output_type": "stream",
     "text": [
      "Creating file background_3_image_0_coord_3\n",
      "Placing tree at: [3333 2478]\n"
     ]
    },
    {
     "name": "stderr",
     "output_type": "stream",
     "text": [
      "Using cache found in /home/icel/.cache/torch/hub/intel-isl_MiDaS_master\n",
      "Using cache found in /home/icel/.cache/torch/hub/intel-isl_MiDaS_master\n"
     ]
    },
    {
     "name": "stdout",
     "output_type": "stream",
     "text": [
      "Creating file background_3_image_0_coord_4\n",
      "Placing tree at: [3164 3546]\n"
     ]
    },
    {
     "name": "stderr",
     "output_type": "stream",
     "text": [
      "Using cache found in /home/icel/.cache/torch/hub/intel-isl_MiDaS_master\n",
      "Using cache found in /home/icel/.cache/torch/hub/intel-isl_MiDaS_master\n"
     ]
    },
    {
     "name": "stdout",
     "output_type": "stream",
     "text": [
      "Creating file background_3_image_1_coord_0\n",
      "Placing tree at: [3132 3026]\n"
     ]
    },
    {
     "name": "stderr",
     "output_type": "stream",
     "text": [
      "Using cache found in /home/icel/.cache/torch/hub/intel-isl_MiDaS_master\n",
      "Using cache found in /home/icel/.cache/torch/hub/intel-isl_MiDaS_master\n"
     ]
    },
    {
     "name": "stdout",
     "output_type": "stream",
     "text": [
      "Creating file background_3_image_1_coord_1\n",
      "Placing tree at: [3128 2382]\n"
     ]
    },
    {
     "name": "stderr",
     "output_type": "stream",
     "text": [
      "Using cache found in /home/icel/.cache/torch/hub/intel-isl_MiDaS_master\n",
      "Using cache found in /home/icel/.cache/torch/hub/intel-isl_MiDaS_master\n"
     ]
    },
    {
     "name": "stdout",
     "output_type": "stream",
     "text": [
      "Creating file background_3_image_1_coord_2\n",
      "Placing tree at: [3110 2015]\n"
     ]
    },
    {
     "name": "stderr",
     "output_type": "stream",
     "text": [
      "Using cache found in /home/icel/.cache/torch/hub/intel-isl_MiDaS_master\n",
      "Using cache found in /home/icel/.cache/torch/hub/intel-isl_MiDaS_master\n"
     ]
    },
    {
     "name": "stdout",
     "output_type": "stream",
     "text": [
      "Creating file background_3_image_1_coord_3\n",
      "Placing tree at: [3126 2797]\n"
     ]
    },
    {
     "name": "stderr",
     "output_type": "stream",
     "text": [
      "Using cache found in /home/icel/.cache/torch/hub/intel-isl_MiDaS_master\n",
      "Using cache found in /home/icel/.cache/torch/hub/intel-isl_MiDaS_master\n"
     ]
    },
    {
     "name": "stdout",
     "output_type": "stream",
     "text": [
      "Creating file background_3_image_1_coord_4\n",
      "Placing tree at: [3147 2613]\n"
     ]
    },
    {
     "name": "stderr",
     "output_type": "stream",
     "text": [
      "Using cache found in /home/icel/.cache/torch/hub/intel-isl_MiDaS_master\n",
      "Using cache found in /home/icel/.cache/torch/hub/intel-isl_MiDaS_master\n"
     ]
    },
    {
     "name": "stdout",
     "output_type": "stream",
     "text": [
      "Creating file background_3_image_2_coord_0\n",
      "Placing tree at: [3142 2341]\n"
     ]
    },
    {
     "name": "stderr",
     "output_type": "stream",
     "text": [
      "Using cache found in /home/icel/.cache/torch/hub/intel-isl_MiDaS_master\n",
      "Using cache found in /home/icel/.cache/torch/hub/intel-isl_MiDaS_master\n"
     ]
    },
    {
     "name": "stdout",
     "output_type": "stream",
     "text": [
      "Creating file background_3_image_2_coord_1\n",
      "Placing tree at: [3159 2653]\n"
     ]
    },
    {
     "name": "stderr",
     "output_type": "stream",
     "text": [
      "Using cache found in /home/icel/.cache/torch/hub/intel-isl_MiDaS_master\n",
      "Using cache found in /home/icel/.cache/torch/hub/intel-isl_MiDaS_master\n"
     ]
    },
    {
     "name": "stdout",
     "output_type": "stream",
     "text": [
      "Creating file background_3_image_2_coord_2\n",
      "Placing tree at: [3139 2406]\n"
     ]
    },
    {
     "name": "stderr",
     "output_type": "stream",
     "text": [
      "Using cache found in /home/icel/.cache/torch/hub/intel-isl_MiDaS_master\n",
      "Using cache found in /home/icel/.cache/torch/hub/intel-isl_MiDaS_master\n"
     ]
    },
    {
     "name": "stdout",
     "output_type": "stream",
     "text": [
      "Creating file background_3_image_2_coord_3\n",
      "Placing tree at: [3135 2382]\n"
     ]
    },
    {
     "name": "stderr",
     "output_type": "stream",
     "text": [
      "Using cache found in /home/icel/.cache/torch/hub/intel-isl_MiDaS_master\n",
      "Using cache found in /home/icel/.cache/torch/hub/intel-isl_MiDaS_master\n"
     ]
    },
    {
     "name": "stdout",
     "output_type": "stream",
     "text": [
      "Creating file background_3_image_2_coord_4\n",
      "Placing tree at: [2456 1822]\n"
     ]
    },
    {
     "name": "stderr",
     "output_type": "stream",
     "text": [
      "Using cache found in /home/icel/.cache/torch/hub/intel-isl_MiDaS_master\n",
      "Using cache found in /home/icel/.cache/torch/hub/intel-isl_MiDaS_master\n"
     ]
    },
    {
     "name": "stdout",
     "output_type": "stream",
     "text": [
      "Creating file background_4_image_0_coord_0\n",
      "Placing tree at: [2483 3149]\n"
     ]
    },
    {
     "name": "stderr",
     "output_type": "stream",
     "text": [
      "Using cache found in /home/icel/.cache/torch/hub/intel-isl_MiDaS_master\n",
      "Using cache found in /home/icel/.cache/torch/hub/intel-isl_MiDaS_master\n"
     ]
    },
    {
     "name": "stdout",
     "output_type": "stream",
     "text": [
      "Creating file background_4_image_0_coord_1\n",
      "Placing tree at: [2444 1687]\n"
     ]
    },
    {
     "name": "stderr",
     "output_type": "stream",
     "text": [
      "Using cache found in /home/icel/.cache/torch/hub/intel-isl_MiDaS_master\n",
      "Using cache found in /home/icel/.cache/torch/hub/intel-isl_MiDaS_master\n"
     ]
    },
    {
     "name": "stdout",
     "output_type": "stream",
     "text": [
      "Creating file background_4_image_0_coord_2\n",
      "Placing tree at: [2461 2100]\n"
     ]
    },
    {
     "name": "stderr",
     "output_type": "stream",
     "text": [
      "Using cache found in /home/icel/.cache/torch/hub/intel-isl_MiDaS_master\n",
      "Using cache found in /home/icel/.cache/torch/hub/intel-isl_MiDaS_master\n"
     ]
    },
    {
     "name": "stdout",
     "output_type": "stream",
     "text": [
      "Creating file background_4_image_0_coord_3\n",
      "Placing tree at: [2486 3050]\n"
     ]
    },
    {
     "name": "stderr",
     "output_type": "stream",
     "text": [
      "Using cache found in /home/icel/.cache/torch/hub/intel-isl_MiDaS_master\n",
      "Using cache found in /home/icel/.cache/torch/hub/intel-isl_MiDaS_master\n"
     ]
    },
    {
     "name": "stdout",
     "output_type": "stream",
     "text": [
      "Creating file background_4_image_0_coord_4\n",
      "Placing tree at: [2364 2486]\n"
     ]
    },
    {
     "name": "stderr",
     "output_type": "stream",
     "text": [
      "Using cache found in /home/icel/.cache/torch/hub/intel-isl_MiDaS_master\n",
      "Using cache found in /home/icel/.cache/torch/hub/intel-isl_MiDaS_master\n"
     ]
    },
    {
     "name": "stdout",
     "output_type": "stream",
     "text": [
      "Creating file background_4_image_1_coord_0\n",
      "Placing tree at: [2369 3238]\n"
     ]
    },
    {
     "name": "stderr",
     "output_type": "stream",
     "text": [
      "Using cache found in /home/icel/.cache/torch/hub/intel-isl_MiDaS_master\n",
      "Using cache found in /home/icel/.cache/torch/hub/intel-isl_MiDaS_master\n"
     ]
    },
    {
     "name": "stdout",
     "output_type": "stream",
     "text": [
      "Creating file background_4_image_1_coord_1\n",
      "Placing tree at: [2373 2801]\n"
     ]
    },
    {
     "name": "stderr",
     "output_type": "stream",
     "text": [
      "Using cache found in /home/icel/.cache/torch/hub/intel-isl_MiDaS_master\n",
      "Using cache found in /home/icel/.cache/torch/hub/intel-isl_MiDaS_master\n"
     ]
    },
    {
     "name": "stdout",
     "output_type": "stream",
     "text": [
      "Creating file background_4_image_1_coord_2\n",
      "Placing tree at: [2334 1902]\n"
     ]
    },
    {
     "name": "stderr",
     "output_type": "stream",
     "text": [
      "Using cache found in /home/icel/.cache/torch/hub/intel-isl_MiDaS_master\n",
      "Using cache found in /home/icel/.cache/torch/hub/intel-isl_MiDaS_master\n"
     ]
    },
    {
     "name": "stdout",
     "output_type": "stream",
     "text": [
      "Creating file background_4_image_1_coord_3\n",
      "Placing tree at: [2378 3232]\n"
     ]
    },
    {
     "name": "stderr",
     "output_type": "stream",
     "text": [
      "Using cache found in /home/icel/.cache/torch/hub/intel-isl_MiDaS_master\n",
      "Using cache found in /home/icel/.cache/torch/hub/intel-isl_MiDaS_master\n"
     ]
    },
    {
     "name": "stdout",
     "output_type": "stream",
     "text": [
      "Creating file background_4_image_1_coord_4\n",
      "Placing tree at: [2385 2938]\n"
     ]
    },
    {
     "name": "stderr",
     "output_type": "stream",
     "text": [
      "Using cache found in /home/icel/.cache/torch/hub/intel-isl_MiDaS_master\n",
      "Using cache found in /home/icel/.cache/torch/hub/intel-isl_MiDaS_master\n"
     ]
    },
    {
     "name": "stdout",
     "output_type": "stream",
     "text": [
      "Creating file background_4_image_2_coord_0\n",
      "Placing tree at: [2384 3074]\n"
     ]
    },
    {
     "name": "stderr",
     "output_type": "stream",
     "text": [
      "Using cache found in /home/icel/.cache/torch/hub/intel-isl_MiDaS_master\n",
      "Using cache found in /home/icel/.cache/torch/hub/intel-isl_MiDaS_master\n"
     ]
    },
    {
     "name": "stdout",
     "output_type": "stream",
     "text": [
      "Creating file background_4_image_2_coord_1\n",
      "Placing tree at: [2386 3155]\n"
     ]
    },
    {
     "name": "stderr",
     "output_type": "stream",
     "text": [
      "Using cache found in /home/icel/.cache/torch/hub/intel-isl_MiDaS_master\n",
      "Using cache found in /home/icel/.cache/torch/hub/intel-isl_MiDaS_master\n"
     ]
    },
    {
     "name": "stdout",
     "output_type": "stream",
     "text": [
      "Creating file background_4_image_2_coord_2\n",
      "Placing tree at: [2347 2050]\n"
     ]
    },
    {
     "name": "stderr",
     "output_type": "stream",
     "text": [
      "Using cache found in /home/icel/.cache/torch/hub/intel-isl_MiDaS_master\n",
      "Using cache found in /home/icel/.cache/torch/hub/intel-isl_MiDaS_master\n"
     ]
    },
    {
     "name": "stdout",
     "output_type": "stream",
     "text": [
      "Creating file background_4_image_2_coord_3\n",
      "Placing tree at: [2373 2436]\n"
     ]
    },
    {
     "name": "stderr",
     "output_type": "stream",
     "text": [
      "Using cache found in /home/icel/.cache/torch/hub/intel-isl_MiDaS_master\n",
      "Using cache found in /home/icel/.cache/torch/hub/intel-isl_MiDaS_master\n"
     ]
    },
    {
     "name": "stdout",
     "output_type": "stream",
     "text": [
      "Creating file background_4_image_2_coord_4\n",
      "Placing tree at: [2330 1557]\n"
     ]
    },
    {
     "name": "stderr",
     "output_type": "stream",
     "text": [
      "Using cache found in /home/icel/.cache/torch/hub/intel-isl_MiDaS_master\n",
      "Using cache found in /home/icel/.cache/torch/hub/intel-isl_MiDaS_master\n"
     ]
    },
    {
     "name": "stdout",
     "output_type": "stream",
     "text": [
      "Creating file background_5_image_0_coord_0\n",
      "Placing tree at: [2333 1460]\n"
     ]
    },
    {
     "name": "stderr",
     "output_type": "stream",
     "text": [
      "Using cache found in /home/icel/.cache/torch/hub/intel-isl_MiDaS_master\n",
      "Using cache found in /home/icel/.cache/torch/hub/intel-isl_MiDaS_master\n"
     ]
    },
    {
     "name": "stdout",
     "output_type": "stream",
     "text": [
      "Creating file background_5_image_0_coord_1\n",
      "Placing tree at: [2326 1659]\n"
     ]
    },
    {
     "name": "stderr",
     "output_type": "stream",
     "text": [
      "Using cache found in /home/icel/.cache/torch/hub/intel-isl_MiDaS_master\n",
      "Using cache found in /home/icel/.cache/torch/hub/intel-isl_MiDaS_master\n"
     ]
    },
    {
     "name": "stdout",
     "output_type": "stream",
     "text": [
      "Creating file background_5_image_0_coord_2\n",
      "Placing tree at: [2334 2840]\n"
     ]
    },
    {
     "name": "stderr",
     "output_type": "stream",
     "text": [
      "Using cache found in /home/icel/.cache/torch/hub/intel-isl_MiDaS_master\n",
      "Using cache found in /home/icel/.cache/torch/hub/intel-isl_MiDaS_master\n"
     ]
    },
    {
     "name": "stdout",
     "output_type": "stream",
     "text": [
      "Creating file background_5_image_0_coord_3\n",
      "Placing tree at: [2324 1909]\n"
     ]
    },
    {
     "name": "stderr",
     "output_type": "stream",
     "text": [
      "Using cache found in /home/icel/.cache/torch/hub/intel-isl_MiDaS_master\n",
      "Using cache found in /home/icel/.cache/torch/hub/intel-isl_MiDaS_master\n"
     ]
    },
    {
     "name": "stdout",
     "output_type": "stream",
     "text": [
      "Creating file background_5_image_0_coord_4\n",
      "Placing tree at: [2200 2069]\n"
     ]
    },
    {
     "name": "stderr",
     "output_type": "stream",
     "text": [
      "Using cache found in /home/icel/.cache/torch/hub/intel-isl_MiDaS_master\n",
      "Using cache found in /home/icel/.cache/torch/hub/intel-isl_MiDaS_master\n"
     ]
    },
    {
     "name": "stdout",
     "output_type": "stream",
     "text": [
      "Creating file background_5_image_1_coord_0\n",
      "Placing tree at: [2194 2776]\n"
     ]
    },
    {
     "name": "stderr",
     "output_type": "stream",
     "text": [
      "Using cache found in /home/icel/.cache/torch/hub/intel-isl_MiDaS_master\n",
      "Using cache found in /home/icel/.cache/torch/hub/intel-isl_MiDaS_master\n"
     ]
    },
    {
     "name": "stdout",
     "output_type": "stream",
     "text": [
      "Creating file background_5_image_1_coord_1\n",
      "Placing tree at: [2195 2444]\n"
     ]
    },
    {
     "name": "stderr",
     "output_type": "stream",
     "text": [
      "Using cache found in /home/icel/.cache/torch/hub/intel-isl_MiDaS_master\n",
      "Using cache found in /home/icel/.cache/torch/hub/intel-isl_MiDaS_master\n"
     ]
    },
    {
     "name": "stdout",
     "output_type": "stream",
     "text": [
      "Creating file background_5_image_1_coord_2\n",
      "Placing tree at: [2174 2660]\n"
     ]
    },
    {
     "name": "stderr",
     "output_type": "stream",
     "text": [
      "Using cache found in /home/icel/.cache/torch/hub/intel-isl_MiDaS_master\n",
      "Using cache found in /home/icel/.cache/torch/hub/intel-isl_MiDaS_master\n"
     ]
    },
    {
     "name": "stdout",
     "output_type": "stream",
     "text": [
      "Creating file background_5_image_1_coord_3\n",
      "Placing tree at: [2196 1778]\n"
     ]
    },
    {
     "name": "stderr",
     "output_type": "stream",
     "text": [
      "Using cache found in /home/icel/.cache/torch/hub/intel-isl_MiDaS_master\n",
      "Using cache found in /home/icel/.cache/torch/hub/intel-isl_MiDaS_master\n"
     ]
    },
    {
     "name": "stdout",
     "output_type": "stream",
     "text": [
      "Creating file background_5_image_1_coord_4\n",
      "Placing tree at: [2216 2070]\n"
     ]
    },
    {
     "name": "stderr",
     "output_type": "stream",
     "text": [
      "Using cache found in /home/icel/.cache/torch/hub/intel-isl_MiDaS_master\n",
      "Using cache found in /home/icel/.cache/torch/hub/intel-isl_MiDaS_master\n"
     ]
    },
    {
     "name": "stdout",
     "output_type": "stream",
     "text": [
      "Creating file background_5_image_2_coord_0\n",
      "Placing tree at: [2202 2342]\n"
     ]
    },
    {
     "name": "stderr",
     "output_type": "stream",
     "text": [
      "Using cache found in /home/icel/.cache/torch/hub/intel-isl_MiDaS_master\n",
      "Using cache found in /home/icel/.cache/torch/hub/intel-isl_MiDaS_master\n"
     ]
    },
    {
     "name": "stdout",
     "output_type": "stream",
     "text": [
      "Creating file background_5_image_2_coord_1\n",
      "Placing tree at: [2217 1568]\n"
     ]
    },
    {
     "name": "stderr",
     "output_type": "stream",
     "text": [
      "Using cache found in /home/icel/.cache/torch/hub/intel-isl_MiDaS_master\n",
      "Using cache found in /home/icel/.cache/torch/hub/intel-isl_MiDaS_master\n"
     ]
    },
    {
     "name": "stdout",
     "output_type": "stream",
     "text": [
      "Creating file background_5_image_2_coord_2\n",
      "Placing tree at: [2215 2797]\n"
     ]
    },
    {
     "name": "stderr",
     "output_type": "stream",
     "text": [
      "Using cache found in /home/icel/.cache/torch/hub/intel-isl_MiDaS_master\n",
      "Using cache found in /home/icel/.cache/torch/hub/intel-isl_MiDaS_master\n"
     ]
    },
    {
     "name": "stdout",
     "output_type": "stream",
     "text": [
      "Creating file background_5_image_2_coord_3\n",
      "Placing tree at: [2216 1602]\n"
     ]
    },
    {
     "name": "stderr",
     "output_type": "stream",
     "text": [
      "Using cache found in /home/icel/.cache/torch/hub/intel-isl_MiDaS_master\n",
      "Using cache found in /home/icel/.cache/torch/hub/intel-isl_MiDaS_master\n"
     ]
    },
    {
     "name": "stdout",
     "output_type": "stream",
     "text": [
      "Creating file background_5_image_2_coord_4\n",
      "Placing tree at: [3139 2795]\n"
     ]
    },
    {
     "name": "stderr",
     "output_type": "stream",
     "text": [
      "Using cache found in /home/icel/.cache/torch/hub/intel-isl_MiDaS_master\n",
      "Using cache found in /home/icel/.cache/torch/hub/intel-isl_MiDaS_master\n"
     ]
    },
    {
     "name": "stdout",
     "output_type": "stream",
     "text": [
      "Creating file background_6_image_0_coord_0\n",
      "Placing tree at: [3147 1989]\n"
     ]
    },
    {
     "name": "stderr",
     "output_type": "stream",
     "text": [
      "Using cache found in /home/icel/.cache/torch/hub/intel-isl_MiDaS_master\n",
      "Using cache found in /home/icel/.cache/torch/hub/intel-isl_MiDaS_master\n"
     ]
    },
    {
     "name": "stdout",
     "output_type": "stream",
     "text": [
      "Creating file background_6_image_0_coord_1\n",
      "Placing tree at: [3111 3063]\n"
     ]
    },
    {
     "name": "stderr",
     "output_type": "stream",
     "text": [
      "Using cache found in /home/icel/.cache/torch/hub/intel-isl_MiDaS_master\n",
      "Using cache found in /home/icel/.cache/torch/hub/intel-isl_MiDaS_master\n"
     ]
    },
    {
     "name": "stdout",
     "output_type": "stream",
     "text": [
      "Creating file background_6_image_0_coord_2\n",
      "Placing tree at: [3125 1925]\n"
     ]
    },
    {
     "name": "stderr",
     "output_type": "stream",
     "text": [
      "Using cache found in /home/icel/.cache/torch/hub/intel-isl_MiDaS_master\n",
      "Using cache found in /home/icel/.cache/torch/hub/intel-isl_MiDaS_master\n"
     ]
    },
    {
     "name": "stdout",
     "output_type": "stream",
     "text": [
      "Creating file background_6_image_0_coord_3\n",
      "Placing tree at: [3132 2769]\n"
     ]
    },
    {
     "name": "stderr",
     "output_type": "stream",
     "text": [
      "Using cache found in /home/icel/.cache/torch/hub/intel-isl_MiDaS_master\n",
      "Using cache found in /home/icel/.cache/torch/hub/intel-isl_MiDaS_master\n"
     ]
    },
    {
     "name": "stdout",
     "output_type": "stream",
     "text": [
      "Creating file background_6_image_0_coord_4\n",
      "Placing tree at: [2892 2470]\n"
     ]
    },
    {
     "name": "stderr",
     "output_type": "stream",
     "text": [
      "Using cache found in /home/icel/.cache/torch/hub/intel-isl_MiDaS_master\n",
      "Using cache found in /home/icel/.cache/torch/hub/intel-isl_MiDaS_master\n"
     ]
    },
    {
     "name": "stdout",
     "output_type": "stream",
     "text": [
      "Creating file background_6_image_1_coord_0\n",
      "Placing tree at: [2904 1833]\n"
     ]
    },
    {
     "name": "stderr",
     "output_type": "stream",
     "text": [
      "Using cache found in /home/icel/.cache/torch/hub/intel-isl_MiDaS_master\n",
      "Using cache found in /home/icel/.cache/torch/hub/intel-isl_MiDaS_master\n"
     ]
    },
    {
     "name": "stdout",
     "output_type": "stream",
     "text": [
      "Creating file background_6_image_1_coord_1\n",
      "Placing tree at: [2882 2312]\n"
     ]
    },
    {
     "name": "stderr",
     "output_type": "stream",
     "text": [
      "Using cache found in /home/icel/.cache/torch/hub/intel-isl_MiDaS_master\n",
      "Using cache found in /home/icel/.cache/torch/hub/intel-isl_MiDaS_master\n"
     ]
    },
    {
     "name": "stdout",
     "output_type": "stream",
     "text": [
      "Creating file background_6_image_1_coord_2\n",
      "Placing tree at: [2876 3252]\n"
     ]
    },
    {
     "name": "stderr",
     "output_type": "stream",
     "text": [
      "Using cache found in /home/icel/.cache/torch/hub/intel-isl_MiDaS_master\n",
      "Using cache found in /home/icel/.cache/torch/hub/intel-isl_MiDaS_master\n"
     ]
    },
    {
     "name": "stdout",
     "output_type": "stream",
     "text": [
      "Creating file background_6_image_1_coord_3\n",
      "Placing tree at: [2899 2591]\n"
     ]
    },
    {
     "name": "stderr",
     "output_type": "stream",
     "text": [
      "Using cache found in /home/icel/.cache/torch/hub/intel-isl_MiDaS_master\n",
      "Using cache found in /home/icel/.cache/torch/hub/intel-isl_MiDaS_master\n"
     ]
    },
    {
     "name": "stdout",
     "output_type": "stream",
     "text": [
      "Creating file background_6_image_1_coord_4\n",
      "Placing tree at: [2918 2444]\n"
     ]
    },
    {
     "name": "stderr",
     "output_type": "stream",
     "text": [
      "Using cache found in /home/icel/.cache/torch/hub/intel-isl_MiDaS_master\n",
      "Using cache found in /home/icel/.cache/torch/hub/intel-isl_MiDaS_master\n"
     ]
    },
    {
     "name": "stdout",
     "output_type": "stream",
     "text": [
      "Creating file background_6_image_2_coord_0\n",
      "Placing tree at: [2913 2535]\n"
     ]
    },
    {
     "name": "stderr",
     "output_type": "stream",
     "text": [
      "Using cache found in /home/icel/.cache/torch/hub/intel-isl_MiDaS_master\n",
      "Using cache found in /home/icel/.cache/torch/hub/intel-isl_MiDaS_master\n"
     ]
    },
    {
     "name": "stdout",
     "output_type": "stream",
     "text": [
      "Creating file background_6_image_2_coord_1\n",
      "Placing tree at: [2904 2775]\n"
     ]
    },
    {
     "name": "stderr",
     "output_type": "stream",
     "text": [
      "Using cache found in /home/icel/.cache/torch/hub/intel-isl_MiDaS_master\n",
      "Using cache found in /home/icel/.cache/torch/hub/intel-isl_MiDaS_master\n"
     ]
    },
    {
     "name": "stdout",
     "output_type": "stream",
     "text": [
      "Creating file background_6_image_2_coord_2\n",
      "Placing tree at: [2897 3372]\n"
     ]
    },
    {
     "name": "stderr",
     "output_type": "stream",
     "text": [
      "Using cache found in /home/icel/.cache/torch/hub/intel-isl_MiDaS_master\n",
      "Using cache found in /home/icel/.cache/torch/hub/intel-isl_MiDaS_master\n"
     ]
    },
    {
     "name": "stdout",
     "output_type": "stream",
     "text": [
      "Creating file background_6_image_2_coord_3\n",
      "Placing tree at: [2902 3132]\n"
     ]
    },
    {
     "name": "stderr",
     "output_type": "stream",
     "text": [
      "Using cache found in /home/icel/.cache/torch/hub/intel-isl_MiDaS_master\n",
      "Using cache found in /home/icel/.cache/torch/hub/intel-isl_MiDaS_master\n"
     ]
    },
    {
     "name": "stdout",
     "output_type": "stream",
     "text": [
      "Creating file background_6_image_2_coord_4\n",
      "Placing tree at: [2489 2410]\n"
     ]
    },
    {
     "name": "stderr",
     "output_type": "stream",
     "text": [
      "Using cache found in /home/icel/.cache/torch/hub/intel-isl_MiDaS_master\n",
      "Using cache found in /home/icel/.cache/torch/hub/intel-isl_MiDaS_master\n"
     ]
    },
    {
     "name": "stdout",
     "output_type": "stream",
     "text": [
      "Creating file background_7_image_0_coord_0\n",
      "Placing tree at: [2482 1691]\n"
     ]
    },
    {
     "name": "stderr",
     "output_type": "stream",
     "text": [
      "Using cache found in /home/icel/.cache/torch/hub/intel-isl_MiDaS_master\n",
      "Using cache found in /home/icel/.cache/torch/hub/intel-isl_MiDaS_master\n"
     ]
    },
    {
     "name": "stdout",
     "output_type": "stream",
     "text": [
      "Creating file background_7_image_0_coord_1\n",
      "Placing tree at: [2489 2111]\n"
     ]
    },
    {
     "name": "stderr",
     "output_type": "stream",
     "text": [
      "Using cache found in /home/icel/.cache/torch/hub/intel-isl_MiDaS_master\n",
      "Using cache found in /home/icel/.cache/torch/hub/intel-isl_MiDaS_master\n"
     ]
    },
    {
     "name": "stdout",
     "output_type": "stream",
     "text": [
      "Creating file background_7_image_0_coord_2\n",
      "Placing tree at: [2479 1580]\n"
     ]
    },
    {
     "name": "stderr",
     "output_type": "stream",
     "text": [
      "Using cache found in /home/icel/.cache/torch/hub/intel-isl_MiDaS_master\n",
      "Using cache found in /home/icel/.cache/torch/hub/intel-isl_MiDaS_master\n"
     ]
    },
    {
     "name": "stdout",
     "output_type": "stream",
     "text": [
      "Creating file background_7_image_0_coord_3\n",
      "Placing tree at: [2475 2371]\n"
     ]
    },
    {
     "name": "stderr",
     "output_type": "stream",
     "text": [
      "Using cache found in /home/icel/.cache/torch/hub/intel-isl_MiDaS_master\n",
      "Using cache found in /home/icel/.cache/torch/hub/intel-isl_MiDaS_master\n"
     ]
    },
    {
     "name": "stdout",
     "output_type": "stream",
     "text": [
      "Creating file background_7_image_0_coord_4\n",
      "Placing tree at: [2340 1917]\n"
     ]
    },
    {
     "name": "stderr",
     "output_type": "stream",
     "text": [
      "Using cache found in /home/icel/.cache/torch/hub/intel-isl_MiDaS_master\n",
      "Using cache found in /home/icel/.cache/torch/hub/intel-isl_MiDaS_master\n"
     ]
    },
    {
     "name": "stdout",
     "output_type": "stream",
     "text": [
      "Creating file background_7_image_1_coord_0\n",
      "Placing tree at: [2323 2580]\n"
     ]
    },
    {
     "name": "stderr",
     "output_type": "stream",
     "text": [
      "Using cache found in /home/icel/.cache/torch/hub/intel-isl_MiDaS_master\n",
      "Using cache found in /home/icel/.cache/torch/hub/intel-isl_MiDaS_master\n"
     ]
    },
    {
     "name": "stdout",
     "output_type": "stream",
     "text": [
      "Creating file background_7_image_1_coord_1\n",
      "Placing tree at: [2342 2301]\n"
     ]
    },
    {
     "name": "stderr",
     "output_type": "stream",
     "text": [
      "Using cache found in /home/icel/.cache/torch/hub/intel-isl_MiDaS_master\n",
      "Using cache found in /home/icel/.cache/torch/hub/intel-isl_MiDaS_master\n"
     ]
    },
    {
     "name": "stdout",
     "output_type": "stream",
     "text": [
      "Creating file background_7_image_1_coord_2\n",
      "Placing tree at: [2330 1766]\n"
     ]
    },
    {
     "name": "stderr",
     "output_type": "stream",
     "text": [
      "Using cache found in /home/icel/.cache/torch/hub/intel-isl_MiDaS_master\n",
      "Using cache found in /home/icel/.cache/torch/hub/intel-isl_MiDaS_master\n"
     ]
    },
    {
     "name": "stdout",
     "output_type": "stream",
     "text": [
      "Creating file background_7_image_1_coord_3\n",
      "Placing tree at: [2343 2299]\n"
     ]
    },
    {
     "name": "stderr",
     "output_type": "stream",
     "text": [
      "Using cache found in /home/icel/.cache/torch/hub/intel-isl_MiDaS_master\n",
      "Using cache found in /home/icel/.cache/torch/hub/intel-isl_MiDaS_master\n"
     ]
    },
    {
     "name": "stdout",
     "output_type": "stream",
     "text": [
      "Creating file background_7_image_1_coord_4\n",
      "Placing tree at: [2353 2171]\n"
     ]
    },
    {
     "name": "stderr",
     "output_type": "stream",
     "text": [
      "Using cache found in /home/icel/.cache/torch/hub/intel-isl_MiDaS_master\n",
      "Using cache found in /home/icel/.cache/torch/hub/intel-isl_MiDaS_master\n"
     ]
    },
    {
     "name": "stdout",
     "output_type": "stream",
     "text": [
      "Creating file background_7_image_2_coord_0\n",
      "Placing tree at: [2347 1776]\n"
     ]
    },
    {
     "name": "stderr",
     "output_type": "stream",
     "text": [
      "Using cache found in /home/icel/.cache/torch/hub/intel-isl_MiDaS_master\n",
      "Using cache found in /home/icel/.cache/torch/hub/intel-isl_MiDaS_master\n"
     ]
    },
    {
     "name": "stdout",
     "output_type": "stream",
     "text": [
      "Creating file background_7_image_2_coord_1\n",
      "Placing tree at: [2357 2231]\n"
     ]
    },
    {
     "name": "stderr",
     "output_type": "stream",
     "text": [
      "Using cache found in /home/icel/.cache/torch/hub/intel-isl_MiDaS_master\n",
      "Using cache found in /home/icel/.cache/torch/hub/intel-isl_MiDaS_master\n"
     ]
    },
    {
     "name": "stdout",
     "output_type": "stream",
     "text": [
      "Creating file background_7_image_2_coord_2\n",
      "Placing tree at: [2341 1726]\n"
     ]
    },
    {
     "name": "stderr",
     "output_type": "stream",
     "text": [
      "Using cache found in /home/icel/.cache/torch/hub/intel-isl_MiDaS_master\n",
      "Using cache found in /home/icel/.cache/torch/hub/intel-isl_MiDaS_master\n"
     ]
    },
    {
     "name": "stdout",
     "output_type": "stream",
     "text": [
      "Creating file background_7_image_2_coord_3\n",
      "Placing tree at: [2340 1650]\n"
     ]
    },
    {
     "name": "stderr",
     "output_type": "stream",
     "text": [
      "Using cache found in /home/icel/.cache/torch/hub/intel-isl_MiDaS_master\n",
      "Using cache found in /home/icel/.cache/torch/hub/intel-isl_MiDaS_master\n"
     ]
    },
    {
     "name": "stdout",
     "output_type": "stream",
     "text": [
      "Creating file background_7_image_2_coord_4\n"
     ]
    }
   ],
   "source": [
    "create_examples(\"backgrounds_ex\", \"data_set_ex\")"
   ]
  },
  {
   "cell_type": "code",
   "execution_count": 32,
   "id": "4050a49b",
   "metadata": {},
   "outputs": [],
   "source": [
    "def check_result(name):\n",
    "    figure, axis = plt.subplots(2, 2)\n",
    "    axis[0, 0].imshow(Image.fromarray(np.load(\"results/images/{}\".format(name))))\n",
    "    axis[0, 1].imshow(Image.fromarray(np.load(\"results/masks/{}\".format(name))))\n",
    "    axis[1, 0].imshow(Image.fromarray(np.load(\"results/depths/{}\".format(name))))\n",
    "    axis[1, 1].imshow(Image.fromarray(np.load(\"results/depths_pasted/{}\".format(name))))"
   ]
  },
  {
   "cell_type": "code",
   "execution_count": 33,
   "id": "34562ef7",
   "metadata": {},
   "outputs": [
    {
     "data": {
      "image/png": "[encoded data removed]",
      "text/plain": [
       "<Figure size 640x480 with 4 Axes>"
      ]
     },
     "metadata": {},
     "output_type": "display_data"
    }
   ],
   "source": [
    "background = 5\n",
    "image = 0\n",
    "coord = 0\n",
    "check_result(\"A1background_{}_image_{}_coord_{}.npy\".format(background, image, coord))"
   ]
  },
  {
   "cell_type": "code",
   "execution_count": 13,
   "id": "ebb8de25",
   "metadata": {},
   "outputs": [],
   "source": [
    "def translate_files(directory):\n",
    "    for i, filename in enumerate(os.listdir(directory)):\n",
    "        array = np.load(\"{}/{}\".format(directory, filename))\n",
    "        print(array.shape)\n",
    "        tifffile.imsave(\"{}_tif/{}.tif\".format(directory, i), array)"
   ]
  },
  {
   "cell_type": "code",
   "execution_count": 14,
   "id": "9c49cf8d",
   "metadata": {},
   "outputs": [
    {
     "name": "stdout",
     "output_type": "stream",
     "text": [
      "(2848, 4288)\n",
      "(3264, 4928)\n",
      "(3456, 5184)\n",
      "(2592, 3888)\n"
     ]
    },
    {
     "name": "stderr",
     "output_type": "stream",
     "text": [
      "/tmp/ipykernel_13707/1927239771.py:5: DeprecationWarning: <tifffile.imsave> is deprecated. Use tifffile.imwrite\n",
      "  tifffile.imsave(\"{}_tif/{}.tif\".format(directory, i), array)\n"
     ]
    },
    {
     "name": "stdout",
     "output_type": "stream",
     "text": [
      "(5184, 3456)\n",
      "(2848, 4288)\n",
      "(2848, 4288)\n",
      "(3130, 2075)\n",
      "(3264, 4928)\n",
      "(3456, 5184)\n",
      "(1500, 2000)\n",
      "(6000, 4000)\n",
      "(3351, 5322)\n",
      "(2848, 4288)\n",
      "(6000, 4000)\n",
      "(6000, 4000)\n",
      "(3264, 4928)\n",
      "(3456, 5184)\n",
      "(5923, 3949)\n",
      "(4032, 3024)\n",
      "(5923, 3949)\n",
      "(1500, 2000)\n",
      "(2592, 3888)\n",
      "(5923, 3949)\n",
      "(3042, 4078)\n",
      "(3456, 5184)\n",
      "(2848, 4288)\n",
      "(2667, 4000)\n",
      "(4032, 3024)\n",
      "(4032, 3024)\n",
      "(2667, 4000)\n",
      "(1500, 1000)\n",
      "(5923, 3949)\n",
      "(5563, 3691)\n",
      "(2592, 3888)\n",
      "(3042, 4078)\n",
      "(6000, 4000)\n",
      "(2592, 3888)\n",
      "(3042, 4078)\n",
      "(3351, 5322)\n",
      "(3659, 5489)\n",
      "(2200, 2069)\n",
      "(3456, 5184)\n",
      "(1200, 1880)\n",
      "(2848, 4288)\n",
      "(1200, 1880)\n",
      "(1500, 2000)\n",
      "(400, 600)\n",
      "(3456, 5184)\n",
      "(3264, 4928)\n",
      "(2848, 4288)\n",
      "(6000, 4000)\n",
      "(1500, 2000)\n",
      "(2667, 4000)\n",
      "(3042, 4078)\n",
      "(3042, 4078)\n",
      "(6000, 4000)\n",
      "(5923, 3949)\n",
      "(2848, 4288)\n",
      "(3351, 5322)\n",
      "(3042, 4078)\n",
      "(5923, 3949)\n",
      "(2592, 3888)\n",
      "(2667, 4000)\n",
      "(3042, 4078)\n",
      "(3456, 5184)\n",
      "(3264, 4928)\n",
      "(2667, 4000)\n",
      "(6000, 4000)\n",
      "(5184, 3456)\n",
      "(1080, 1920)\n",
      "(2667, 4000)\n",
      "(2667, 4000)\n",
      "(2848, 4288)\n",
      "(2667, 4000)\n",
      "(3456, 5184)\n",
      "(1080, 1920)\n",
      "(3456, 5184)\n",
      "(3419, 2642)\n",
      "(7358, 4908)\n",
      "(4032, 3024)\n",
      "(3042, 4078)\n",
      "(3042, 4078)\n",
      "(3264, 4928)\n",
      "(2667, 4000)\n",
      "(3351, 5322)\n",
      "(3456, 5184)\n",
      "(1080, 1920)\n",
      "(3659, 5489)\n",
      "(6000, 4000)\n",
      "(6000, 4000)\n",
      "(3042, 4078)\n",
      "(3042, 4078)\n",
      "(1436, 1000)\n",
      "(2200, 2069)\n",
      "(2667, 4000)\n",
      "(3130, 2075)\n",
      "(6000, 4000)\n",
      "(3456, 5184)\n",
      "(6000, 4000)\n",
      "(5923, 3949)\n",
      "(3456, 5184)\n",
      "(6000, 4000)\n",
      "(3130, 2075)\n",
      "(2592, 3888)\n",
      "(3130, 2075)\n",
      "(1200, 1880)\n",
      "(6000, 4000)\n",
      "(3419, 2642)\n",
      "(1080, 1920)\n",
      "(2592, 3888)\n",
      "(1500, 1000)\n",
      "(3264, 4928)\n",
      "(2848, 4288)\n",
      "(5184, 3456)\n",
      "(6000, 4000)\n",
      "(4032, 3024)\n",
      "(1500, 1000)\n",
      "(400, 600)\n",
      "(6000, 4000)\n",
      "(2200, 2069)\n",
      "(3456, 5184)\n",
      "(3351, 5322)\n",
      "(3351, 5322)\n",
      "(3659, 5489)\n",
      "(2592, 3888)\n",
      "(3419, 2642)\n",
      "(5563, 3691)\n",
      "(3042, 4078)\n",
      "(2848, 4288)\n",
      "(6000, 4000)\n",
      "(2667, 4000)\n",
      "(3264, 4928)\n",
      "(1200, 1880)\n",
      "(3042, 4078)\n",
      "(2592, 3888)\n",
      "(2592, 3888)\n",
      "(3264, 4928)\n",
      "(2200, 2069)\n",
      "(3456, 5184)\n",
      "(7358, 4908)\n",
      "(3130, 2075)\n",
      "(3042, 4078)\n",
      "(6000, 4000)\n",
      "(2848, 4288)\n",
      "(1500, 2000)\n",
      "(1500, 2000)\n",
      "(3456, 5184)\n",
      "(3351, 5322)\n",
      "(3456, 5184)\n",
      "(6000, 4000)\n",
      "(1500, 1000)\n",
      "(6000, 4000)\n",
      "(6000, 4000)\n",
      "(2848, 4288)\n",
      "(1436, 1000)\n",
      "(3351, 5322)\n",
      "(2592, 3888)\n",
      "(5923, 3949)\n",
      "(4032, 3024)\n",
      "(5923, 3949)\n",
      "(3264, 4928)\n",
      "(3456, 5184)\n",
      "(6000, 4000)\n",
      "(3351, 5322)\n",
      "(400, 600)\n",
      "(1436, 1000)\n",
      "(3659, 5489)\n",
      "(3456, 5184)\n",
      "(5563, 3691)\n",
      "(1500, 1000)\n",
      "(3456, 5184)\n",
      "(5563, 3691)\n",
      "(4032, 3024)\n",
      "(400, 600)\n",
      "(2592, 3888)\n",
      "(3264, 4928)\n",
      "(4032, 3024)\n",
      "(3264, 4928)\n",
      "(6000, 4000)\n",
      "(3419, 2642)\n",
      "(3264, 4928)\n",
      "(2667, 4000)\n",
      "(3351, 5322)\n",
      "(1436, 1000)\n",
      "(2667, 4000)\n",
      "(5923, 3949)\n",
      "(3351, 5322)\n",
      "(5184, 3456)\n",
      "(1080, 1920)\n",
      "(2592, 3888)\n",
      "(3264, 4928)\n",
      "(5923, 3949)\n",
      "(7358, 4908)\n",
      "(2667, 4000)\n",
      "(4032, 3024)\n",
      "(3351, 5322)\n",
      "(3419, 2642)\n",
      "(3264, 4928)\n",
      "(3042, 4078)\n",
      "(5923, 3949)\n",
      "(1200, 1880)\n",
      "(7358, 4908)\n",
      "(5923, 3949)\n",
      "(6000, 4000)\n",
      "(2667, 4000)\n",
      "(5923, 3949)\n",
      "(6000, 4000)\n",
      "(3351, 5322)\n",
      "(400, 600)\n",
      "(5184, 3456)\n",
      "(2592, 3888)\n",
      "(2848, 4288)\n",
      "(2848, 4288)\n",
      "(2592, 3888)\n",
      "(5923, 3949)\n",
      "(3351, 5322)\n",
      "(3456, 5184)\n",
      "(3659, 5489)\n",
      "(4032, 3024)\n",
      "(1436, 1000)\n",
      "(7358, 4908)\n",
      "(6000, 4000)\n",
      "(2200, 2069)\n",
      "(5563, 3691)\n",
      "(3351, 5322)\n"
     ]
    }
   ],
   "source": [
    "translate_files(\"results/depths_pasted\")"
   ]
  },
  {
   "cell_type": "code",
   "execution_count": 37,
   "id": "a824b681",
   "metadata": {},
   "outputs": [
    {
     "name": "stdout",
     "output_type": "stream",
     "text": [
      "40 0\n"
     ]
    },
    {
     "data": {
      "text/plain": [
       "<matplotlib.image.AxesImage at 0x7f63b5a46020>"
      ]
     },
     "execution_count": 37,
     "metadata": {},
     "output_type": "execute_result"
    },
    {
     "data": {
      "image/png": "[encoded data removed]",
      "text/plain": [
       "<Figure size 640x480 with 2 Axes>"
      ]
     },
     "metadata": {},
     "output_type": "display_data"
    }
   ],
   "source": [
    "img = cv2.imread(\"results/depths_pasted_tif/0.tif\")\n",
    "data = np.array(img)\n",
    "print(np.max(data), np.min(data))\n",
    "figure, axis = plt.subplots(1, 2)\n",
    "axis[0].imshow(Image.fromarray(data))\n",
    "axis[1].imshow(Image.fromarray(data[:, :, 0]))"
   ]
  },
  {
   "cell_type": "code",
   "execution_count": null,
   "id": "2394c275",
   "metadata": {},
   "outputs": [],
   "source": []
  }
 ],
 "metadata": {
  "kernelspec": {
   "display_name": "Python 3 (ipykernel)",
   "language": "python",
   "name": "python3"
  },
  "language_info": {
   "codemirror_mode": {
    "name": "ipython",
    "version": 3
   },
   "file_extension": ".py",
   "mimetype": "text/x-python",
   "name": "python",
   "nbconvert_exporter": "python",
   "pygments_lexer": "ipython3",
   "version": "3.10.4"
  }
 },
 "nbformat": 4,
 "nbformat_minor": 5
}
